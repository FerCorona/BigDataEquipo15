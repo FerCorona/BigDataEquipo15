{
  "nbformat": 4,
  "nbformat_minor": 0,
  "metadata": {
    "colab": {
      "provenance": []
    },
    "kernelspec": {
      "name": "python3",
      "display_name": "Python 3"
    },
    "language_info": {
      "name": "python"
    }
  },
  "cells": [
    {
      "cell_type": "markdown",
      "source": [
        "**INTEGRANTES EQUIPO 15**\n",
        "\n",
        "\n",
        "*   David García Robles A01152606\n",
        "*   Carlos M. Ramirez A01795036\n",
        "*   Fernando Garcia Corona A01793717"
      ],
      "metadata": {
        "id": "LfFz8Lq6tyLd"
      }
    },
    {
      "cell_type": "code",
      "execution_count": 34,
      "metadata": {
        "id": "YZKb_wnTsFBe",
        "colab": {
          "base_uri": "https://localhost:8080/"
        },
        "outputId": "aef0eadd-e057-4d77-ecf1-75d261e3b7a0"
      },
      "outputs": [
        {
          "output_type": "stream",
          "name": "stdout",
          "text": [
            "Drive already mounted at /content/drive; to attempt to forcibly remount, call drive.mount(\"/content/drive\", force_remount=True).\n"
          ]
        }
      ],
      "source": [
        "from google.colab import drive\n",
        "drive.mount('/content/drive')\n",
        "DATA_PATH = '/content/drive/MyDrive/data.csv'"
      ]
    },
    {
      "cell_type": "code",
      "source": [
        "pip install scikit-surprise\n"
      ],
      "metadata": {
        "colab": {
          "base_uri": "https://localhost:8080/"
        },
        "id": "6PYXa9us5iZG",
        "outputId": "f7217282-897d-491e-ea31-cb78d2b64348"
      },
      "execution_count": 35,
      "outputs": [
        {
          "output_type": "stream",
          "name": "stdout",
          "text": [
            "Requirement already satisfied: scikit-surprise in /usr/local/lib/python3.10/dist-packages (1.1.4)\n",
            "Requirement already satisfied: joblib>=1.2.0 in /usr/local/lib/python3.10/dist-packages (from scikit-surprise) (1.4.2)\n",
            "Requirement already satisfied: numpy>=1.19.5 in /usr/local/lib/python3.10/dist-packages (from scikit-surprise) (1.25.2)\n",
            "Requirement already satisfied: scipy>=1.6.0 in /usr/local/lib/python3.10/dist-packages (from scikit-surprise) (1.11.4)\n"
          ]
        }
      ]
    },
    {
      "cell_type": "code",
      "source": [
        "import pandas as pd\n",
        "import numpy as np\n",
        "import matplotlib.pyplot as plt\n",
        "import seaborn as sns\n",
        "from scipy.sparse.linalg import svds\n",
        "from sklearn.model_selection import train_test_split\n",
        "from sklearn.metrics import mean_squared_error\n"
      ],
      "metadata": {
        "id": "suYb-HIMtW-P"
      },
      "execution_count": 36,
      "outputs": []
    },
    {
      "cell_type": "code",
      "source": [
        "# Cargar el conjunto de datos\n",
        "df = pd.read_csv(DATA_PATH , encoding='unicode_escape')"
      ],
      "metadata": {
        "id": "mMNv5ewZtac3"
      },
      "execution_count": 37,
      "outputs": []
    },
    {
      "cell_type": "code",
      "source": [
        "# Mostrar las primeras filas del conjunto de datos\n",
        "print(\"Primeras filas del conjunto de datos:\")\n",
        "print(df.head(10))"
      ],
      "metadata": {
        "colab": {
          "base_uri": "https://localhost:8080/"
        },
        "id": "U0ZSabyNuGjz",
        "outputId": "835d04f4-28db-48e5-b862-b0ff5f10840c"
      },
      "execution_count": 38,
      "outputs": [
        {
          "output_type": "stream",
          "name": "stdout",
          "text": [
            "Primeras filas del conjunto de datos:\n",
            "  InvoiceNo StockCode                          Description  Quantity  \\\n",
            "0    536365    85123A   WHITE HANGING HEART T-LIGHT HOLDER         6   \n",
            "1    536365     71053                  WHITE METAL LANTERN         6   \n",
            "2    536365    84406B       CREAM CUPID HEARTS COAT HANGER         8   \n",
            "3    536365    84029G  KNITTED UNION FLAG HOT WATER BOTTLE         6   \n",
            "4    536365    84029E       RED WOOLLY HOTTIE WHITE HEART.         6   \n",
            "5    536365     22752         SET 7 BABUSHKA NESTING BOXES         2   \n",
            "6    536365     21730    GLASS STAR FROSTED T-LIGHT HOLDER         6   \n",
            "7    536366     22633               HAND WARMER UNION JACK         6   \n",
            "8    536366     22632            HAND WARMER RED POLKA DOT         6   \n",
            "9    536367     84879        ASSORTED COLOUR BIRD ORNAMENT        32   \n",
            "\n",
            "      InvoiceDate  UnitPrice  CustomerID         Country  \n",
            "0  12/1/2010 8:26       2.55     17850.0  United Kingdom  \n",
            "1  12/1/2010 8:26       3.39     17850.0  United Kingdom  \n",
            "2  12/1/2010 8:26       2.75     17850.0  United Kingdom  \n",
            "3  12/1/2010 8:26       3.39     17850.0  United Kingdom  \n",
            "4  12/1/2010 8:26       3.39     17850.0  United Kingdom  \n",
            "5  12/1/2010 8:26       7.65     17850.0  United Kingdom  \n",
            "6  12/1/2010 8:26       4.25     17850.0  United Kingdom  \n",
            "7  12/1/2010 8:28       1.85     17850.0  United Kingdom  \n",
            "8  12/1/2010 8:28       1.85     17850.0  United Kingdom  \n",
            "9  12/1/2010 8:34       1.69     13047.0  United Kingdom  \n"
          ]
        }
      ]
    },
    {
      "cell_type": "code",
      "source": [
        "df.info()"
      ],
      "metadata": {
        "colab": {
          "base_uri": "https://localhost:8080/"
        },
        "id": "amOFr3Popd3K",
        "outputId": "64a8ff36-f6f4-4c8a-f0ee-fa642564ba35"
      },
      "execution_count": 39,
      "outputs": [
        {
          "output_type": "stream",
          "name": "stdout",
          "text": [
            "<class 'pandas.core.frame.DataFrame'>\n",
            "RangeIndex: 541909 entries, 0 to 541908\n",
            "Data columns (total 8 columns):\n",
            " #   Column       Non-Null Count   Dtype  \n",
            "---  ------       --------------   -----  \n",
            " 0   InvoiceNo    541909 non-null  object \n",
            " 1   StockCode    541909 non-null  object \n",
            " 2   Description  540455 non-null  object \n",
            " 3   Quantity     541909 non-null  int64  \n",
            " 4   InvoiceDate  541909 non-null  object \n",
            " 5   UnitPrice    541909 non-null  float64\n",
            " 6   CustomerID   406829 non-null  float64\n",
            " 7   Country      541909 non-null  object \n",
            "dtypes: float64(2), int64(1), object(5)\n",
            "memory usage: 33.1+ MB\n"
          ]
        }
      ]
    },
    {
      "cell_type": "code",
      "source": [
        "# Resumen estadístico del conjunto de datos\n",
        "print(\"\\nResumen estadístico del conjunto de datos:\")\n",
        "print(df.describe().round(2))"
      ],
      "metadata": {
        "colab": {
          "base_uri": "https://localhost:8080/"
        },
        "id": "FyTG5aSOuK1c",
        "outputId": "652ac01b-0ddb-4532-a417-be3ca24da2aa"
      },
      "execution_count": 40,
      "outputs": [
        {
          "output_type": "stream",
          "name": "stdout",
          "text": [
            "\n",
            "Resumen estadístico del conjunto de datos:\n",
            "        Quantity  UnitPrice  CustomerID\n",
            "count  541909.00  541909.00   406829.00\n",
            "mean        9.55       4.61    15287.69\n",
            "std       218.08      96.76     1713.60\n",
            "min    -80995.00  -11062.06    12346.00\n",
            "25%         1.00       1.25    13953.00\n",
            "50%         3.00       2.08    15152.00\n",
            "75%        10.00       4.13    16791.00\n",
            "max     80995.00   38970.00    18287.00\n"
          ]
        }
      ]
    },
    {
      "cell_type": "code",
      "source": [
        "# Distribución de productos más vendidos\n",
        "top_products = df['Description'].value_counts().head(10)\n",
        "plt.figure(figsize=(5, 5))\n",
        "top_products.plot(kind='barh', color='salmon')\n",
        "plt.title('Top 10 Productos Más Vendidos')\n",
        "plt.xlabel('Número de Ventas')\n",
        "plt.ylabel('Producto')\n",
        "plt.gca().invert_yaxis()  # Invertir el eje y para mostrar el producto más vendido en la parte superior\n",
        "plt.show()"
      ],
      "metadata": {
        "colab": {
          "base_uri": "https://localhost:8080/",
          "height": 488
        },
        "id": "_dRlSGo9uOu8",
        "outputId": "2559f157-33d7-4847-942d-28e27d685cbe"
      },
      "execution_count": 41,
      "outputs": [
        {
          "output_type": "display_data",
          "data": {
            "text/plain": [
              "<Figure size 500x500 with 1 Axes>"
            ],
            "image/png": "[encoded data removed]"
          },
          "metadata": {}
        }
      ]
    },
    {
      "cell_type": "code",
      "source": [
        "# Análisis de clientes más activos\n",
        "active_customers = df.groupby('CustomerID')['InvoiceNo'].count().sort_values(ascending=False)\n",
        "plt.figure(figsize=(5, 5))\n",
        "active_customers.head(10).plot(kind='bar', color='salmon')\n",
        "plt.title('Top 10 Clientes Más Activos')\n",
        "plt.xlabel('ID del Cliente')\n",
        "plt.ylabel('Número de Transacciones')\n",
        "plt.show()"
      ],
      "metadata": {
        "colab": {
          "base_uri": "https://localhost:8080/",
          "height": 531
        },
        "id": "r3iUmHC2uTOd",
        "outputId": "53e6754b-59f6-473a-a8b6-31a9a49bf631"
      },
      "execution_count": 42,
      "outputs": [
        {
          "output_type": "display_data",
          "data": {
            "text/plain": [
              "<Figure size 500x500 with 1 Axes>"
            ],
            "image/png": "[encoded data removed]"
          },
          "metadata": {}
        }
      ]
    },
    {
      "cell_type": "code",
      "source": [
        "# Filtrar columnas relevantes\n",
        "data = df[['CustomerID', 'StockCode', 'Quantity', 'Description']]\n",
        "\n",
        "# Remover filas con valores faltantes\n",
        "data = data.dropna(subset=['CustomerID', 'StockCode', 'Quantity'])\n",
        "\n",
        "# Filtrar datos para evitar ruido\n",
        "data = data[data['Quantity'] > 0]  # Solo considerar transacciones con cantidad positiva"
      ],
      "metadata": {
        "id": "UP-zXISsrJuj"
      },
      "execution_count": 43,
      "outputs": []
    },
    {
      "cell_type": "code",
      "source": [
        "# Dividir los datos en conjuntos de entrenamiento y prueba\n",
        "def train_test_split_data(data, test_size=0.2):\n",
        "    train_data, test_data = train_test_split(data, test_size=test_size, random_state=42)\n",
        "    return train_data, test_data\n",
        "\n",
        "train_data, test_data = train_test_split_data(data)"
      ],
      "metadata": {
        "id": "x5ZILkUmrOSv"
      },
      "execution_count": 44,
      "outputs": []
    },
    {
      "cell_type": "code",
      "source": [
        "# Crear matrices de interacción de entrenamiento y prueba\n",
        "interaction_matrix_train = train_data.pivot_table(index='StockCode', columns='CustomerID', values='Quantity', fill_value=0)\n",
        "interaction_matrix_test = test_data.pivot_table(index='StockCode', columns='CustomerID', values='Quantity', fill_value=0)\n",
        "\n",
        "# Asegurarse de que las columnas (CustomerID) estén alineadas entre las matrices de entrenamiento y prueba\n",
        "common_customers = interaction_matrix_train.columns.intersection(interaction_matrix_test.columns)\n",
        "interaction_matrix_train = interaction_matrix_train[common_customers]\n",
        "interaction_matrix_test = interaction_matrix_test[common_customers]\n",
        "\n",
        "# Convertir la matriz de entrenamiento a numpy\n",
        "interaction_matrix_train_numpy = interaction_matrix_train.to_numpy()\n",
        "\n",
        "print(\"Matriz de Interacción de Entrenamiento:\")\n",
        "print(interaction_matrix_train)\n",
        "\n",
        "print(\"\\nMatriz de Interacción de Prueba:\")\n",
        "print(interaction_matrix_test)\n",
        "\n",
        "# Imprimir la matriz de entrenamiento en formato numpy\n",
        "print(\"\\nMatriz de Entrenamiento en formato numpy:\")\n",
        "print(interaction_matrix_train_numpy)"
      ],
      "metadata": {
        "id": "sazxrVk9rWTw",
        "colab": {
          "base_uri": "https://localhost:8080/"
        },
        "outputId": "d5d0ac6c-1c4e-45b0-fa73-01f1fa85a086"
      },
      "execution_count": 45,
      "outputs": [
        {
          "output_type": "stream",
          "name": "stdout",
          "text": [
            "Matriz de Interacción de Entrenamiento:\n",
            "CustomerID  12347.0   12348.0  12349.0  12350.0  12352.0  12353.0  12354.0  \\\n",
            "StockCode                                                                    \n",
            "10002           0.0  0.000000        0        0      0.0        0        0   \n",
            "10080           0.0  0.000000        0        0      0.0        0        0   \n",
            "10120           0.0  0.000000        0        0      0.0        0        0   \n",
            "10123C          0.0  0.000000        0        0      0.0        0        0   \n",
            "10124A          0.0  0.000000        0        0      0.0        0        0   \n",
            "...             ...       ...      ...      ...      ...      ...      ...   \n",
            "C2              0.0  0.000000        0        0      0.0        0        0   \n",
            "DOT             0.0  0.000000        0        0      0.0        0        0   \n",
            "M               0.0  0.000000        0        0      1.0        0        0   \n",
            "PADS            0.0  0.000000        0        0      0.0        0        0   \n",
            "POST            0.0  2.666667        1        1      1.4        0        0   \n",
            "\n",
            "CustomerID  12355.0  12356.0  12357.0  ...  18273.0  18274.0  18276.0  \\\n",
            "StockCode                              ...                              \n",
            "10002             0      0.0        0  ...        0        0        0   \n",
            "10080             0      0.0        0  ...        0        0        0   \n",
            "10120             0      0.0        0  ...        0        0        0   \n",
            "10123C            0      0.0        0  ...        0        0        0   \n",
            "10124A            0      0.0        0  ...        0        0        0   \n",
            "...             ...      ...      ...  ...      ...      ...      ...   \n",
            "C2                0      0.0        0  ...        0        0        0   \n",
            "DOT               0      0.0        0  ...        0        0        0   \n",
            "M                 0      0.0        0  ...        0        0        0   \n",
            "PADS              0      0.0        0  ...        0        0        0   \n",
            "POST              0      0.0        0  ...        0        0        0   \n",
            "\n",
            "CustomerID  18277.0  18278.0  18280.0  18281.0  18282.0  18283.0  18287.0  \n",
            "StockCode                                                                  \n",
            "10002             0        0        0        0        0      0.0        0  \n",
            "10080             0        0        0        0        0      0.0        0  \n",
            "10120             0        0        0        0        0      0.0        0  \n",
            "10123C            0        0        0        0        0      0.0        0  \n",
            "10124A            0        0        0        0        0      0.0        0  \n",
            "...             ...      ...      ...      ...      ...      ...      ...  \n",
            "C2                0        0        0        0        0      0.0        0  \n",
            "DOT               0        0        0        0        0      0.0        0  \n",
            "M                 0        0        0        0        0      1.0        0  \n",
            "PADS              0        0        0        0        0      0.0        0  \n",
            "POST              0        0        0        0        0      0.0        0  \n",
            "\n",
            "[3617 rows x 4070 columns]\n",
            "\n",
            "Matriz de Interacción de Prueba:\n",
            "CustomerID  12347.0  12348.0  12349.0  12350.0  12352.0  12353.0  12354.0  \\\n",
            "StockCode                                                                   \n",
            "10002             0        0        0        0        0        0        0   \n",
            "10080             0        0        0        0        0        0        0   \n",
            "10120             0        0        0        0        0        0        0   \n",
            "10123C            0        0        0        0        0        0        0   \n",
            "10124A            0        0        0        0        0        0        0   \n",
            "...             ...      ...      ...      ...      ...      ...      ...   \n",
            "C2                0        0        0        0        0        0        0   \n",
            "DOT               0        0        0        0        0        0        0   \n",
            "M                 0        0        0        0        1        0        0   \n",
            "PADS              0        0        0        0        0        0        0   \n",
            "POST              0        1        0        0        0        0        0   \n",
            "\n",
            "CustomerID  12355.0  12356.0  12357.0  ...  18273.0  18274.0  18276.0  \\\n",
            "StockCode                              ...                              \n",
            "10002             0        0        0  ...        0        0        0   \n",
            "10080             0        0        0  ...        0        0        0   \n",
            "10120             0        0        0  ...        0        0        0   \n",
            "10123C            0        0        0  ...        0        0        0   \n",
            "10124A            0        0        0  ...        0        0        0   \n",
            "...             ...      ...      ...  ...      ...      ...      ...   \n",
            "C2                0        0        0  ...        0        0        0   \n",
            "DOT               0        0        0  ...        0        0        0   \n",
            "M                 0        0        0  ...        0        0        0   \n",
            "PADS              0        0        0  ...        0        0        0   \n",
            "POST              0       18        0  ...        0        0        0   \n",
            "\n",
            "CustomerID  18277.0  18278.0  18280.0  18281.0  18282.0  18283.0  18287.0  \n",
            "StockCode                                                                  \n",
            "10002             0        0        0        0        0      0.0        0  \n",
            "10080             0        0        0        0        0      0.0        0  \n",
            "10120             0        0        0        0        0      0.0        0  \n",
            "10123C            0        0        0        0        0      0.0        0  \n",
            "10124A            0        0        0        0        0      0.0        0  \n",
            "...             ...      ...      ...      ...      ...      ...      ...  \n",
            "C2                0        0        0        0        0      0.0        0  \n",
            "DOT               0        0        0        0        0      0.0        0  \n",
            "M                 0        0        0        0        0      1.0        0  \n",
            "PADS              0        0        0        0        0      0.0        0  \n",
            "POST              0        0        0        0        0      0.0        0  \n",
            "\n",
            "[3274 rows x 4070 columns]\n",
            "\n",
            "Matriz de Entrenamiento en formato numpy:\n",
            "[[0.         0.         0.         ... 0.         0.         0.        ]\n",
            " [0.         0.         0.         ... 0.         0.         0.        ]\n",
            " [0.         0.         0.         ... 0.         0.         0.        ]\n",
            " ...\n",
            " [0.         0.         0.         ... 0.         1.         0.        ]\n",
            " [0.         0.         0.         ... 0.         0.         0.        ]\n",
            " [0.         2.66666667 1.         ... 0.         0.         0.        ]]\n"
          ]
        }
      ]
    },
    {
      "cell_type": "code",
      "source": [
        "import time\n",
        "from sklearn.metrics import mean_squared_error, mean_absolute_error"
      ],
      "metadata": {
        "id": "LWDK42V4pZdP"
      },
      "execution_count": 46,
      "outputs": []
    },
    {
      "cell_type": "code",
      "source": [
        "from sklearn.decomposition import TruncatedSVD\n",
        "nc = min(interaction_matrix_train_numpy.shape) - 1\n",
        "SVD_food = TruncatedSVD(n_components=nc)\n",
        "\n",
        "# Medir el tiempo de entrenamiento\n",
        "start_time = time.time()\n",
        "\n",
        "SVD_food.fit(interaction_matrix_train_numpy)\n",
        "\n",
        "training_time = time.time() - start_time\n",
        "\n",
        "# Determinar la cantidad de componentes que explican el 90% de la variabilidad\n",
        "explained_variance = np.cumsum(SVD_food.explained_variance_ratio_)\n",
        "N_f = np.searchsorted(explained_variance, 0.90)\n",
        "\n",
        "print('Total de valores singulares basados en evaluación de la variabilidad:', nc)\n",
        "print('Valor de truncamiento al 90% de dicha variabilidad:', N_f)"
      ],
      "metadata": {
        "colab": {
          "base_uri": "https://localhost:8080/"
        },
        "id": "vxl30kqcbfyP",
        "outputId": "7cc9a5d8-089c-4fea-ea82-33d242bbf9d4"
      },
      "execution_count": 47,
      "outputs": [
        {
          "output_type": "stream",
          "name": "stdout",
          "text": [
            "Total de valores singulares basados en evaluación de la variabilidad: 3616\n",
            "Valor de truncamiento al 90% de dicha variabilidad: 165\n"
          ]
        }
      ]
    },
    {
      "cell_type": "code",
      "source": [
        "# Elegir el número de factores latentes\n",
        "k = 50                #El RMSE más bajo con un menor número de factores latentes (k=50 vs k=165) sugiere que un modelo más simple puede estar generalizando mejor a los datos de prueba\n",
        "\n",
        "# Realizar la descomposición SVD con la matriz de entrenamiento\n",
        "U_train, sigma_train, Vt_train = svds(interaction_matrix_train_numpy, k=k)\n",
        "sigma_train = np.diag(sigma_train)\n",
        "\n",
        "# Recomponer la matriz de predicciones\n",
        "predicted_interactions_train = np.dot(np.dot(U_train, sigma_train), Vt_train)\n",
        "\n",
        "# Convertir las predicciones a un DataFrame\n",
        "predicted_interactions_train_df = pd.DataFrame(predicted_interactions_train, index=interaction_matrix_train.index, columns=interaction_matrix_train.columns)\n",
        "\n",
        "# Crear un diccionario para mapear StockCode a Description\n",
        "item_descriptions = data[['StockCode', 'Description']].drop_duplicates().set_index('StockCode')['Description'].to_dict()\n",
        "\n",
        "# Función para obtener las mejores recomendaciones\n",
        "def get_top_n_recommendations(user_id, interaction_matrix, predicted_interactions_df, item_descriptions, n=10):\n",
        "    # Obtener los productos que el usuario ya ha interactuado\n",
        "    user_interactions = interaction_matrix[user_id]\n",
        "\n",
        "    # Filtrar productos ya interactuados\n",
        "    user_predictions = predicted_interactions_df[user_id]\n",
        "    recommendations = user_predictions[user_interactions == 0]\n",
        "\n",
        "    # Ordenar las predicciones por la calificación estimada en orden descendente\n",
        "    top_n_recommendations = recommendations.sort_values(ascending=False).head(n)\n",
        "\n",
        "    return top_n_recommendations\n"
      ],
      "metadata": {
        "id": "36Fp-VWcqHhY"
      },
      "execution_count": 48,
      "outputs": []
    },
    {
      "cell_type": "code",
      "source": [
        "# Función para calcular RMSE\n",
        "def compute_rmse(predictions, true_values):\n",
        "    # Alinear matrices\n",
        "    common_index = predictions.index.intersection(true_values.index)\n",
        "    predictions_aligned = predictions.loc[common_index]\n",
        "    true_values_aligned = true_values.loc[common_index]\n",
        "\n",
        "    common_columns = predictions_aligned.columns.intersection(true_values_aligned.columns)\n",
        "    predictions_aligned = predictions_aligned[common_columns]\n",
        "    true_values_aligned = true_values_aligned[common_columns]\n",
        "\n",
        "    rmse = np.sqrt(mean_squared_error(true_values_aligned, predictions_aligned))\n",
        "    return rmse\n",
        "\n",
        "def compute_mae(predictions, true_values):\n",
        "    # Alinear matrices\n",
        "    common_index = predictions.index.intersection(true_values.index)\n",
        "    predictions_aligned = predictions.loc[common_index]\n",
        "    true_values_aligned = true_values.loc[common_index]\n",
        "\n",
        "    common_columns = predictions_aligned.columns.intersection(true_values_aligned.columns)\n",
        "    predictions_aligned = predictions_aligned[common_columns]\n",
        "    true_values_aligned = true_values_aligned[common_columns]\n",
        "\n",
        "    mae = mean_absolute_error(true_values_aligned, predictions_aligned)\n",
        "    return mae\n",
        "\n",
        "# Evaluar RMSE en el conjunto de prueba\n",
        "rmse_test = compute_rmse(predicted_interactions_train_df, interaction_matrix_test)\n",
        "mae_test = compute_mae(predicted_interactions_train_df, interaction_matrix_test)\n",
        "print(f\"RMSE en el conjunto de prueba: {rmse_test}\")\n",
        "\n",
        "# Función para calcular Precision@K\n",
        "def precision_at_k(predicted_interactions_df, true_interactions_df, k=10):\n",
        "    precisions = []\n",
        "\n",
        "    for user in true_interactions_df.columns:\n",
        "        # Obtener las K mejores predicciones para el usuario\n",
        "        user_predictions = predicted_interactions_df[user].sort_values(ascending=False).head(k)\n",
        "        user_true_values = true_interactions_df[user]\n",
        "\n",
        "        # Contar los elementos relevantes entre las K mejores predicciones\n",
        "        relevant_items = user_true_values[user_true_values > 0].index\n",
        "        recommended_relevant_items = [item for item in user_predictions.index if item in relevant_items]\n",
        "\n",
        "        # Calcular precisión\n",
        "        precisions.append(len(recommended_relevant_items) / k)\n",
        "\n",
        "    # Promediar las precisiones de todos los usuarios\n",
        "    precision = np.mean(precisions)\n",
        "    return precision\n",
        "\n",
        "def recall_at_k(predicted_interactions_df, true_interactions_df, k=10):\n",
        "    recalls = []\n",
        "\n",
        "    for user in true_interactions_df.columns:\n",
        "        # Obtener las K mejores predicciones para el usuario\n",
        "        user_predictions = predicted_interactions_df[user].sort_values(ascending=False).head(k)\n",
        "        user_true_values = true_interactions_df[user]\n",
        "\n",
        "        # Obtener los elementos relevantes en los valores verdaderos\n",
        "        relevant_items = user_true_values[user_true_values > 0].index\n",
        "        recommended_relevant_items = [item for item in user_predictions.index if item in relevant_items]\n",
        "\n",
        "        # Calcular recall\n",
        "        if len(relevant_items) > 0:\n",
        "            recalls.append(len(recommended_relevant_items) / len(relevant_items))\n",
        "\n",
        "    # Promediar los recalls de todos los usuarios\n",
        "    recall = np.mean(recalls)\n",
        "    return recall\n",
        "\n",
        "# Evaluar Precision@K en el conjunto de prueba\n",
        "precision_test = precision_at_k(predicted_interactions_train_df, interaction_matrix_test, k=10)\n",
        "recall_test = precision_at_k(predicted_interactions_train_df, interaction_matrix_test, k=10)\n",
        "print(f\"Precision@10 en el conjunto de prueba: {precision_test}\")"
      ],
      "metadata": {
        "colab": {
          "base_uri": "https://localhost:8080/"
        },
        "id": "k_79MNgWr2Ib",
        "outputId": "eb19cb37-a9f3-4bba-d878-291f1f2981fa"
      },
      "execution_count": 53,
      "outputs": [
        {
          "output_type": "stream",
          "name": "stdout",
          "text": [
            "RMSE en el conjunto de prueba: 3.8581183425387775\n",
            "Precision@10 en el conjunto de prueba: 0.06375921375921376\n"
          ]
        }
      ]
    },
    {
      "cell_type": "code",
      "source": [
        "def make_recommendation(userID):\n",
        "  # Obtener las recomendaciones\n",
        "  top_n_recommendations = get_top_n_recommendations(userID, interaction_matrix_train, predicted_interactions_train_df, item_descriptions, n=10)\n",
        "  print(\"Top 10 Recomendaciones:\")\n",
        "\n",
        "  # Mostrar las recomendaciones con la descripción del producto\n",
        "  for item in top_n_recommendations.index:\n",
        "      description = item_descriptions.get(item, \"Descripción no disponible\")\n",
        "      print(f\"Producto ID: {item}, Nombre: {description}\")"
      ],
      "metadata": {
        "id": "Nl56qIaGxkIj"
      },
      "execution_count": 50,
      "outputs": []
    },
    {
      "cell_type": "code",
      "source": [
        "make_recommendation(13047)"
      ],
      "metadata": {
        "colab": {
          "base_uri": "https://localhost:8080/"
        },
        "id": "nNyiy9IfxwQU",
        "outputId": "e6e473bd-95e7-440d-b254-5f6cd219e7d3"
      },
      "execution_count": 51,
      "outputs": [
        {
          "output_type": "stream",
          "name": "stdout",
          "text": [
            "Top 10 Recomendaciones:\n",
            "Producto ID: 22998, Nombre: TRAVEL CARD WALLET KEEP CALM\n",
            "Producto ID: 22197, Nombre: POPCORN HOLDER\n",
            "Producto ID: 22992, Nombre: REVOLVER WOODEN RULER \n",
            "Producto ID: 22991, Nombre: GIRAFFE WOODEN RULER\n",
            "Producto ID: 23230, Nombre: WRAP ALPHABET DESIGN\n",
            "Producto ID: 21495, Nombre: SKULLS AND CROSSBONES WRAP\n",
            "Producto ID: 23232, Nombre: WRAP VINTAGE LEAF DESIGN\n",
            "Producto ID: 23084, Nombre: RABBIT NIGHT LIGHT\n",
            "Producto ID: 21915, Nombre: RED  HARMONICA IN BOX \n",
            "Producto ID: 23207, Nombre: LUNCH BAG ALPHABET DESIGN\n"
          ]
        }
      ]
    },
    {
      "cell_type": "code",
      "source": [
        "make_recommendation(17850)"
      ],
      "metadata": {
        "id": "GFAcsTq-xy0Y",
        "outputId": "a706ce27-0ea0-43f9-9e02-f2936bf583e5",
        "colab": {
          "base_uri": "https://localhost:8080/"
        }
      },
      "execution_count": 52,
      "outputs": [
        {
          "output_type": "stream",
          "name": "stdout",
          "text": [
            "Top 10 Recomendaciones:\n",
            "Producto ID: 21175, Nombre: GIN AND TONIC DIET METAL SIGN\n",
            "Producto ID: 21108, Nombre: FAIRY CAKE FLANNEL ASSORTED COLOUR\n",
            "Producto ID: 22865, Nombre: HAND WARMER OWL DESIGN\n",
            "Producto ID: 84945, Nombre: MULTI COLOUR SILVER T-LIGHT HOLDER\n",
            "Producto ID: 85099B, Nombre: JUMBO BAG RED RETROSPOT\n",
            "Producto ID: 47556B, Nombre: TEA TIME TEA TOWELS \n",
            "Producto ID: 22178, Nombre: VICTORIAN GLASS HANGING T-LIGHT\n",
            "Producto ID: 84755, Nombre: COLOUR GLASS T-LIGHT HOLDER HANGING\n",
            "Producto ID: 22866, Nombre: HAND WARMER SCOTTY DOG DESIGN\n",
            "Producto ID: 21497, Nombre: FANCY FONTS BIRTHDAY WRAP\n"
          ]
        }
      ]
    },
    {
      "cell_type": "markdown",
      "source": [
        "# `Métricas`"
      ],
      "metadata": {
        "id": "HAUoYKy7olLd"
      }
    },
    {
      "cell_type": "code",
      "source": [
        "\n",
        "# Imprimir resultados\n",
        "print(f\"Tiempo de entrenamiento: {training_time:.2f} segundos\")\n",
        "print(f\"RMSE: {rmse_test:.4f}\")\n",
        "print(f\"MAE: {mae_test:.4f}\")\n",
        "print(f\"Precisión: {precision_test:.4f}\")\n",
        "print(f\"Recall: {recall_test:.4f}\")"
      ],
      "metadata": {
        "colab": {
          "base_uri": "https://localhost:8080/"
        },
        "id": "w8xpgOrZom2u",
        "outputId": "f4154637-164b-40b2-e3a2-a8ff21bc9261"
      },
      "execution_count": 54,
      "outputs": [
        {
          "output_type": "stream",
          "name": "stdout",
          "text": [
            "Tiempo de entrenamiento: 170.66 segundos\n",
            "RMSE: 3.8581\n",
            "MAE: 0.2806\n",
            "Precisión: 0.0638\n",
            "Recall: 0.0638\n"
          ]
        }
      ]
    }
  ]
}